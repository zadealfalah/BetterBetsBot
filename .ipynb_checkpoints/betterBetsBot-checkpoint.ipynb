{
 "cells": [
  {
   "cell_type": "code",
   "execution_count": 27,
   "id": "486f2315-f978-4698-8c2f-9f38bc023186",
   "metadata": {},
   "outputs": [],
   "source": [
    "import time\n",
    "import praw\n",
    "import pandas as pd\n",
    "import os\n",
    "import random\n",
    "from dotenv import load_dotenv\n",
    "import re\n",
    "\n",
    "import MySQLdb"
   ]
  },
  {
   "cell_type": "code",
   "execution_count": null,
   "id": "c6047812-74d0-4c33-83aa-06385e0e5be5",
   "metadata": {},
   "outputs": [],
   "source": []
  },
  {
   "cell_type": "code",
   "execution_count": 14,
   "id": "7c64e9a1-b644-4913-9169-75a22ee02760",
   "metadata": {},
   "outputs": [],
   "source": [
    "#load in env variables\n",
    "load_dotenv()\n",
    "client_id = os.getenv(\"client_id\")\n",
    "client_secret = os.getenv(\"client_secret\")\n",
    "username = os.getenv(\"user\")\n",
    "password = os.getenv(\"password\")\n",
    "user_agent = os.getenv(\"user_agent\")"
   ]
  },
  {
   "cell_type": "code",
   "execution_count": 15,
   "id": "20f3f98d-f9a9-4835-9272-792d84097ab9",
   "metadata": {},
   "outputs": [],
   "source": [
    "# creating an authorized reddit instance\n",
    "def login(client_id, client_secret, username, password, user_agent):\n",
    "    reddit = praw.Reddit(client_id = client_id,\n",
    "                     client_secret = client_secret,\n",
    "                     username = username,\n",
    "                     password = password,\n",
    "                     user_agent = user_agent)\n",
    "    return reddit"
   ]
  },
  {
   "cell_type": "code",
   "execution_count": 16,
   "id": "563807f7-ffea-42f2-a853-26b442c02804",
   "metadata": {},
   "outputs": [],
   "source": [
    "# the subreddit where the bot is to be live on\n",
    "#remember can add together eg: \"test+bitcoin+dogecoin\"\n",
    "def setsub(sub = \"test\"):\n",
    "    target_sub = sub\n",
    "    subreddit = reddit.subreddit(target_sub)\n",
    "    return subreddit"
   ]
  },
  {
   "cell_type": "code",
   "execution_count": 17,
   "id": "4a29cdc6-a227-4bfc-8a50-1b9062906591",
   "metadata": {},
   "outputs": [],
   "source": [
    "# phrase to trigger the bot\n",
    "def get_trigger(trigger = \"!BBB\"):\n",
    "    trigger_phrase = trigger\n",
    "    return trigger_phrase"
   ]
  },
  {
   "cell_type": "code",
   "execution_count": null,
   "id": "1189f2fc-cd31-4d63-88f4-eaae16818572",
   "metadata": {},
   "outputs": [],
   "source": [
    "reddit = login(client_id, client_secret, username, password, user_agent)\n",
    "trigger_phrase = get_trigger()\n",
    "subreddit = setsub()"
   ]
  },
  {
   "cell_type": "code",
   "execution_count": 1,
   "id": "699d6285-fddc-4f13-8687-4a02d136a205",
   "metadata": {},
   "outputs": [],
   "source": [
    "def reply_former(testing = True):\n",
    "    if testing == True:\n",
    "        inbox_to_search = reddit.inbox.all(limit = 10) #if testing, look through 10 entries in inbox\n",
    "    else:\n",
    "        inbox_to_search = reddit.inbox.all(limit = None) #unlimited number of entries if not testing\n",
    "    \n",
    "    for message in inbox_to_search:\n",
    "        #Do whatever we want with the message\n",
    "        \n",
    "        message.mark_read() #mark the message as read"
   ]
  },
  {
   "cell_type": "code",
   "execution_count": 6,
   "id": "5c8bec2c-2ab7-4656-a564-814e2900f7cb",
   "metadata": {},
   "outputs": [],
   "source": [
    "class game:\n",
    "    def __init__(self, teamNameZero, teamNameOne, league, gameStartTime, winner = None):\n",
    "        self.teamNameZero = teamNameZero\n",
    "        self.gameStartTime = gameStartTime\n",
    "        self.league = league\n",
    "        self.teamNameOne = teamNameOne\n",
    "        self.winner = winner\n",
    "        \n",
    "    def setGameWinner(teamWon):\n",
    "        self.winner = teamWon #0 for teamNameZero winning, 1 for teamNameOne winning"
   ]
  },
  {
   "cell_type": "code",
   "execution_count": 5,
   "id": "ca420921-3396-4cb4-bc7e-1405129356b0",
   "metadata": {},
   "outputs": [],
   "source": [
    "class user:\n",
    "    def __init__(self, userID, username, joinDate, balance, lastBetDate):\n",
    "        self.userID = userID\n",
    "        self.username = username\n",
    "        self.joinDate = joinDate\n",
    "        self.balance = balance\n",
    "        self.lastBetDate = lastBetDate\n",
    "        \n",
    "    def updateUserLastBetDate(newDate):\n",
    "        self.lastBetDate = newdate\n",
    "    \n",
    "    def updateUserBalance(balanceChange):\n",
    "        self.balance = self.balance + balanceChange"
   ]
  },
  {
   "cell_type": "code",
   "execution_count": null,
   "id": "56435fcc-605a-4ffc-b430-7576bc32aeef",
   "metadata": {},
   "outputs": [],
   "source": [
    "class bet:\n",
    "    def __unit__(self, betID, amountBet, teamBetOn, timeBet, odds = None, resolved = False, userID, gameID):\n",
    "        self.betID = betID\n",
    "        self.amountBet = amountBet\n",
    "        self.teamBetOn = teamBetOn\n",
    "        self.timeBet = timeBet\n",
    "        self.odds = odds\n",
    "        self.resolved = resolved\n",
    "        self.userID = userID\n",
    "        self.gameID = gameID\n",
    "        \n",
    "    def updateBetOdds(newOdds):\n",
    "        self.odds = newOdds\n",
    "    \n",
    "    def setBetResolved():\n",
    "        self.resolved = True\n",
    "    "
   ]
  }
 ],
 "metadata": {
  "kernelspec": {
   "display_name": "Python 3 (ipykernel)",
   "language": "python",
   "name": "python3"
  },
  "language_info": {
   "codemirror_mode": {
    "name": "ipython",
    "version": 3
   },
   "file_extension": ".py",
   "mimetype": "text/x-python",
   "name": "python",
   "nbconvert_exporter": "python",
   "pygments_lexer": "ipython3",
   "version": "3.9.13"
  }
 },
 "nbformat": 4,
 "nbformat_minor": 5
}
