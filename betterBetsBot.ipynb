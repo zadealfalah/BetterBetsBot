{
 "cells": [
  {
   "cell_type": "code",
   "execution_count": 10,
   "id": "486f2315-f978-4698-8c2f-9f38bc023186",
   "metadata": {},
   "outputs": [
    {
     "ename": "ModuleNotFoundError",
     "evalue": "No module named 'dotenv'",
     "output_type": "error",
     "traceback": [
      "\u001b[1;31m---------------------------------------------------------------------------\u001b[0m",
      "\u001b[1;31mModuleNotFoundError\u001b[0m                       Traceback (most recent call last)",
      "Input \u001b[1;32mIn [10]\u001b[0m, in \u001b[0;36m<cell line: 6>\u001b[1;34m()\u001b[0m\n\u001b[0;32m      4\u001b[0m \u001b[38;5;28;01mimport\u001b[39;00m \u001b[38;5;21;01mos\u001b[39;00m\n\u001b[0;32m      5\u001b[0m \u001b[38;5;28;01mimport\u001b[39;00m \u001b[38;5;21;01mrandom\u001b[39;00m\n\u001b[1;32m----> 6\u001b[0m \u001b[38;5;28;01mfrom\u001b[39;00m \u001b[38;5;21;01mdotenv\u001b[39;00m \u001b[38;5;28;01mimport\u001b[39;00m load_dotenv\n\u001b[0;32m      7\u001b[0m \u001b[38;5;28;01mimport\u001b[39;00m \u001b[38;5;21;01mre\u001b[39;00m\n",
      "\u001b[1;31mModuleNotFoundError\u001b[0m: No module named 'dotenv'"
     ]
    }
   ],
   "source": [
    "import time\n",
    "# import praw\n",
    "import pandas as pd\n",
    "import os\n",
    "import random\n",
    "from dotenv import load_dotenv\n",
    "import re\n",
    "\n",
    "#pymysql"
   ]
  },
  {
   "cell_type": "code",
   "execution_count": 14,
   "id": "7c64e9a1-b644-4913-9169-75a22ee02760",
   "metadata": {},
   "outputs": [],
   "source": [
    "#load in env variables\n",
    "load_dotenv()\n",
    "client_id = os.getenv(\"client_id\")\n",
    "client_secret = os.getenv(\"client_secret\")\n",
    "username = os.getenv(\"user\")\n",
    "password = os.getenv(\"password\")\n",
    "user_agent = os.getenv(\"user_agent\")"
   ]
  },
  {
   "cell_type": "code",
   "execution_count": 15,
   "id": "20f3f98d-f9a9-4835-9272-792d84097ab9",
   "metadata": {},
   "outputs": [],
   "source": [
    "# creating an authorized reddit instance\n",
    "def login(client_id, client_secret, username, password, user_agent):\n",
    "    reddit = praw.Reddit(client_id = client_id,\n",
    "                     client_secret = client_secret,\n",
    "                     username = username,\n",
    "                     password = password,\n",
    "                     user_agent = user_agent)\n",
    "    return reddit"
   ]
  },
  {
   "cell_type": "code",
   "execution_count": 16,
   "id": "563807f7-ffea-42f2-a853-26b442c02804",
   "metadata": {},
   "outputs": [],
   "source": [
    "# the subreddit where the bot is to be live on\n",
    "#remember can add together eg: \"test+bitcoin+dogecoin\"\n",
    "def setsub(sub = \"test\"):\n",
    "    target_sub = sub\n",
    "    subreddit = reddit.subreddit(target_sub)\n",
    "    return subreddit"
   ]
  },
  {
   "cell_type": "code",
   "execution_count": 17,
   "id": "4a29cdc6-a227-4bfc-8a50-1b9062906591",
   "metadata": {},
   "outputs": [],
   "source": [
    "# phrase to trigger the bot\n",
    "def get_trigger(trigger = \"!BBB\"):\n",
    "    trigger_phrase = trigger\n",
    "    return trigger_phrase"
   ]
  },
  {
   "cell_type": "code",
   "execution_count": null,
   "id": "1189f2fc-cd31-4d63-88f4-eaae16818572",
   "metadata": {},
   "outputs": [],
   "source": [
    "reddit = login(client_id, client_secret, username, password, user_agent)\n",
    "trigger_phrase = get_trigger()\n",
    "subreddit = setsub()"
   ]
  },
  {
   "cell_type": "code",
   "execution_count": 1,
   "id": "699d6285-fddc-4f13-8687-4a02d136a205",
   "metadata": {},
   "outputs": [],
   "source": [
    "def reply_former(testing = True):\n",
    "    if testing == True:\n",
    "        inbox_to_search = reddit.inbox.all(limit = 10) #if testing, look through 10 entries in inbox\n",
    "    else:\n",
    "        inbox_to_search = reddit.inbox.all(limit = None) #unlimited number of entries if not testing\n",
    "    \n",
    "    for message in inbox_to_search:\n",
    "        #Do whatever we want with the message\n",
    "        \n",
    "        message.mark_read() #mark the message as read"
   ]
  },
  {
   "cell_type": "code",
   "execution_count": 6,
   "id": "5c8bec2c-2ab7-4656-a564-814e2900f7cb",
   "metadata": {},
   "outputs": [],
   "source": [
    "class game:\n",
    "    def __init__(self, teamNameZero, teamNameOne, league, gameStartTime, winner = None):\n",
    "        self.teamNameZero = teamNameZero\n",
    "        self.gameStartTime = gameStartTime\n",
    "        self.league = league\n",
    "        self.teamNameOne = teamNameOne\n",
    "        self.winner = winner\n",
    "        \n",
    "    def setGameWinner(teamWon):\n",
    "        self.winner = teamWon #0 for teamNameZero winning, 1 for teamNameOne winning"
   ]
  },
  {
   "cell_type": "code",
   "execution_count": 5,
   "id": "ca420921-3396-4cb4-bc7e-1405129356b0",
   "metadata": {},
   "outputs": [],
   "source": [
    "class user:\n",
    "    def __init__(self, userID, username, joinDate, balance, lastBetDate):\n",
    "        self.userID = userID\n",
    "        self.username = username\n",
    "        self.joinDate = joinDate\n",
    "        self.balance = balance\n",
    "        self.lastBetDate = lastBetDate\n",
    "        \n",
    "    def updateUserLastBetDate(newDate):\n",
    "        self.lastBetDate = newdate\n",
    "    \n",
    "    def updateUserBalance(balanceChange):\n",
    "        self.balance = self.balance + balanceChange"
   ]
  },
  {
   "cell_type": "markdown",
   "id": "533e77bc-933f-45c0-9390-70cb0ea6a7e4",
   "metadata": {},
   "source": [
    "# edge cases\n",
    "\n",
    "Betting more than you have\n",
    "attempting to bet on same game >1x\n",
    "adding x credits every week at set time\n",
    "\n",
    "\n",
    "balance checking (by user demand)\n",
    "win/loss checking (by user demand)\n",
    "profit tracking (by user demand) - net gain or loss as basic? look through bets table\n",
    "\n",
    "removing old bets (stale bets) at a certain timeframe\n",
    "\n",
    "add net_profit to user table- makes less math for profit tracking\n",
    "add overall_win_loss to user table, makes less math / ops\n",
    "\n",
    "funny titles for certain bet 'achievements' / 'failures'\n",
    "funny messages with auto-responses? tailor to w/l or net profit or whatever they're asking about\n",
    "funny messages for winning with bad odds or losing with great odds\n",
    "\n",
    "Top 5 winners, update on a timeframe, timeframe depends on sport\n",
    "\n",
    "challenge users peer-to-peer bets? perhaps for v2 of app\n",
    "e.g. \"Lets wager 1k credits that packers beat lions\" to another user.  \n",
    "\n",
    "\n",
    "\n",
    "\n",
    "utils.py holding all util functions like connecting to database, using cursor, etc.  don't have to repeat os.getenv() stuff\n",
    "assorted functions that can be used by everything, not specific to anything\n",
    "\n",
    "set up file structure - probably stick with having a script/ .py file for each table/class"
   ]
  },
  {
   "cell_type": "code",
   "execution_count": null,
   "id": "56435fcc-605a-4ffc-b430-7576bc32aeef",
   "metadata": {},
   "outputs": [],
   "source": [
    "class bet:\n",
    "    def __unit__(self, betID, amountBet, teamBetOn, timeBet, odds = None, resolved = False, userID, gameID):\n",
    "        self.betID = betID\n",
    "        self.amountBet = amountBet\n",
    "        self.teamBetOn = teamBetOn\n",
    "        self.timeBet = timeBet\n",
    "        self.odds = odds\n",
    "        self.resolved = resolved\n",
    "        self.userID = userID\n",
    "        self.gameID = gameID\n",
    "        \n",
    "    def updateBetOdds(newOdds):\n",
    "        self.odds = newOdds\n",
    "    \n",
    "    def setBetResolved():\n",
    "        self.resolved = True\n",
    "    "
   ]
  },
  {
   "cell_type": "code",
   "execution_count": 7,
   "id": "6a3dde09-a55e-4dbf-9812-91e11ad2abe7",
   "metadata": {},
   "outputs": [],
   "source": [
    "import pymysql.cursors"
   ]
  },
  {
   "cell_type": "code",
   "execution_count": 13,
   "id": "126f0288-93b0-4236-9924-130ff294e39e",
   "metadata": {},
   "outputs": [
    {
     "ename": "OperationalError",
     "evalue": "(2003, \"Can't connect to MySQL server on 'localhost' ([WinError 10061] No connection could be made because the target machine actively refused it)\")",
     "output_type": "error",
     "traceback": [
      "\u001b[1;31m---------------------------------------------------------------------------\u001b[0m",
      "\u001b[1;31mConnectionRefusedError\u001b[0m                    Traceback (most recent call last)",
      "File \u001b[1;32m~\\anaconda3\\envs\\py0913\\lib\\site-packages\\pymysql\\connections.py:613\u001b[0m, in \u001b[0;36mConnection.connect\u001b[1;34m(self, sock)\u001b[0m\n\u001b[0;32m    612\u001b[0m \u001b[38;5;28;01mtry\u001b[39;00m:\n\u001b[1;32m--> 613\u001b[0m     sock \u001b[38;5;241m=\u001b[39m socket\u001b[38;5;241m.\u001b[39mcreate_connection(\n\u001b[0;32m    614\u001b[0m         (\u001b[38;5;28mself\u001b[39m\u001b[38;5;241m.\u001b[39mhost, \u001b[38;5;28mself\u001b[39m\u001b[38;5;241m.\u001b[39mport), \u001b[38;5;28mself\u001b[39m\u001b[38;5;241m.\u001b[39mconnect_timeout, \u001b[38;5;241m*\u001b[39m\u001b[38;5;241m*\u001b[39mkwargs\n\u001b[0;32m    615\u001b[0m     )\n\u001b[0;32m    616\u001b[0m     \u001b[38;5;28;01mbreak\u001b[39;00m\n",
      "File \u001b[1;32m~\\anaconda3\\envs\\py0913\\lib\\socket.py:844\u001b[0m, in \u001b[0;36mcreate_connection\u001b[1;34m(address, timeout, source_address)\u001b[0m\n\u001b[0;32m    843\u001b[0m \u001b[38;5;28;01mtry\u001b[39;00m:\n\u001b[1;32m--> 844\u001b[0m     \u001b[38;5;28;01mraise\u001b[39;00m err\n\u001b[0;32m    845\u001b[0m \u001b[38;5;28;01mfinally\u001b[39;00m:\n\u001b[0;32m    846\u001b[0m     \u001b[38;5;66;03m# Break explicitly a reference cycle\u001b[39;00m\n",
      "File \u001b[1;32m~\\anaconda3\\envs\\py0913\\lib\\socket.py:832\u001b[0m, in \u001b[0;36mcreate_connection\u001b[1;34m(address, timeout, source_address)\u001b[0m\n\u001b[0;32m    831\u001b[0m     sock\u001b[38;5;241m.\u001b[39mbind(source_address)\n\u001b[1;32m--> 832\u001b[0m \u001b[43msock\u001b[49m\u001b[38;5;241;43m.\u001b[39;49m\u001b[43mconnect\u001b[49m\u001b[43m(\u001b[49m\u001b[43msa\u001b[49m\u001b[43m)\u001b[49m\n\u001b[0;32m    833\u001b[0m \u001b[38;5;66;03m# Break explicitly a reference cycle\u001b[39;00m\n",
      "\u001b[1;31mConnectionRefusedError\u001b[0m: [WinError 10061] No connection could be made because the target machine actively refused it",
      "\nDuring handling of the above exception, another exception occurred:\n",
      "\u001b[1;31mOperationalError\u001b[0m                          Traceback (most recent call last)",
      "Input \u001b[1;32mIn [13]\u001b[0m, in \u001b[0;36m<cell line: 1>\u001b[1;34m()\u001b[0m\n\u001b[1;32m----> 1\u001b[0m connection \u001b[38;5;241m=\u001b[39m \u001b[43mpymysql\u001b[49m\u001b[38;5;241;43m.\u001b[39;49m\u001b[43mconnect\u001b[49m\u001b[43m(\u001b[49m\u001b[43mhost\u001b[49m\u001b[38;5;241;43m=\u001b[39;49m\u001b[43mos\u001b[49m\u001b[38;5;241;43m.\u001b[39;49m\u001b[43mgetenv\u001b[49m\u001b[43m(\u001b[49m\u001b[38;5;124;43m'\u001b[39;49m\u001b[38;5;124;43mdb_host\u001b[39;49m\u001b[38;5;124;43m'\u001b[39;49m\u001b[43m)\u001b[49m\u001b[43m,\u001b[49m\n\u001b[0;32m      2\u001b[0m \u001b[43m                             \u001b[49m\u001b[43muser\u001b[49m\u001b[38;5;241;43m=\u001b[39;49m\u001b[43mos\u001b[49m\u001b[38;5;241;43m.\u001b[39;49m\u001b[43mgetenv\u001b[49m\u001b[43m(\u001b[49m\u001b[38;5;124;43m'\u001b[39;49m\u001b[38;5;124;43mdb_user\u001b[39;49m\u001b[38;5;124;43m'\u001b[39;49m\u001b[43m)\u001b[49m\u001b[43m,\u001b[49m\n\u001b[0;32m      3\u001b[0m \u001b[43m                             \u001b[49m\u001b[43mpassword\u001b[49m\u001b[38;5;241;43m=\u001b[39;49m\u001b[43mos\u001b[49m\u001b[38;5;241;43m.\u001b[39;49m\u001b[43mgetenv\u001b[49m\u001b[43m(\u001b[49m\u001b[38;5;124;43m'\u001b[39;49m\u001b[38;5;124;43mdb_pass\u001b[39;49m\u001b[38;5;124;43m'\u001b[39;49m\u001b[43m)\u001b[49m\u001b[43m,\u001b[49m\n\u001b[0;32m      4\u001b[0m \u001b[43m                             \u001b[49m\u001b[43mdatabase\u001b[49m\u001b[38;5;241;43m=\u001b[39;49m\u001b[43mos\u001b[49m\u001b[38;5;241;43m.\u001b[39;49m\u001b[43mgetenv\u001b[49m\u001b[43m(\u001b[49m\u001b[38;5;124;43m'\u001b[39;49m\u001b[38;5;124;43mdb_schema\u001b[39;49m\u001b[38;5;124;43m'\u001b[39;49m\u001b[43m)\u001b[49m\u001b[43m,\u001b[49m\n\u001b[0;32m      5\u001b[0m \u001b[43m                             \u001b[49m\u001b[43mcursorclass\u001b[49m\u001b[38;5;241;43m=\u001b[39;49m\u001b[43mpymysql\u001b[49m\u001b[38;5;241;43m.\u001b[39;49m\u001b[43mcursors\u001b[49m\u001b[38;5;241;43m.\u001b[39;49m\u001b[43mDictCursor\u001b[49m\u001b[43m)\u001b[49m\n",
      "File \u001b[1;32m~\\anaconda3\\envs\\py0913\\lib\\site-packages\\pymysql\\connections.py:353\u001b[0m, in \u001b[0;36mConnection.__init__\u001b[1;34m(self, user, password, host, database, unix_socket, port, charset, sql_mode, read_default_file, conv, use_unicode, client_flag, cursorclass, init_command, connect_timeout, read_default_group, autocommit, local_infile, max_allowed_packet, defer_connect, auth_plugin_map, read_timeout, write_timeout, bind_address, binary_prefix, program_name, server_public_key, ssl, ssl_ca, ssl_cert, ssl_disabled, ssl_key, ssl_verify_cert, ssl_verify_identity, compress, named_pipe, passwd, db)\u001b[0m\n\u001b[0;32m    351\u001b[0m     \u001b[38;5;28mself\u001b[39m\u001b[38;5;241m.\u001b[39m_sock \u001b[38;5;241m=\u001b[39m \u001b[38;5;28;01mNone\u001b[39;00m\n\u001b[0;32m    352\u001b[0m \u001b[38;5;28;01melse\u001b[39;00m:\n\u001b[1;32m--> 353\u001b[0m     \u001b[38;5;28;43mself\u001b[39;49m\u001b[38;5;241;43m.\u001b[39;49m\u001b[43mconnect\u001b[49m\u001b[43m(\u001b[49m\u001b[43m)\u001b[49m\n",
      "File \u001b[1;32m~\\anaconda3\\envs\\py0913\\lib\\site-packages\\pymysql\\connections.py:664\u001b[0m, in \u001b[0;36mConnection.connect\u001b[1;34m(self, sock)\u001b[0m\n\u001b[0;32m    662\u001b[0m     \u001b[38;5;28;01mif\u001b[39;00m DEBUG:\n\u001b[0;32m    663\u001b[0m         \u001b[38;5;28mprint\u001b[39m(exc\u001b[38;5;241m.\u001b[39mtraceback)\n\u001b[1;32m--> 664\u001b[0m     \u001b[38;5;28;01mraise\u001b[39;00m exc\n\u001b[0;32m    666\u001b[0m \u001b[38;5;66;03m# If e is neither DatabaseError or IOError, It's a bug.\u001b[39;00m\n\u001b[0;32m    667\u001b[0m \u001b[38;5;66;03m# But raising AssertionError hides original error.\u001b[39;00m\n\u001b[0;32m    668\u001b[0m \u001b[38;5;66;03m# So just reraise it.\u001b[39;00m\n\u001b[0;32m    669\u001b[0m \u001b[38;5;28;01mraise\u001b[39;00m\n",
      "\u001b[1;31mOperationalError\u001b[0m: (2003, \"Can't connect to MySQL server on 'localhost' ([WinError 10061] No connection could be made because the target machine actively refused it)\")"
     ]
    }
   ],
   "source": [
    "connection = pymysql.connect(host=os.getenv('db_host'),\n",
    "                             user=os.getenv('db_user'),\n",
    "                             password=os.getenv('db_pass'),\n",
    "                             database=os.getenv('db_schema'),\n",
    "                             cursorclass=pymysql.cursors.DictCursor)"
   ]
  },
  {
   "cell_type": "code",
   "execution_count": null,
   "id": "64263494-ef52-4e4b-9498-26e5335e58ab",
   "metadata": {},
   "outputs": [],
   "source": []
  }
 ],
 "metadata": {
  "kernelspec": {
   "display_name": "Python 3 (ipykernel)",
   "language": "python",
   "name": "python3"
  },
  "language_info": {
   "codemirror_mode": {
    "name": "ipython",
    "version": 3
   },
   "file_extension": ".py",
   "mimetype": "text/x-python",
   "name": "python",
   "nbconvert_exporter": "python",
   "pygments_lexer": "ipython3",
   "version": "3.9.13"
  },
  "vscode": {
   "interpreter": {
    "hash": "8a9c5d825ba28144dc2e825cee802193157610ba94fa0875b0b28bf441d27a8e"
   }
  }
 },
 "nbformat": 4,
 "nbformat_minor": 5
}
